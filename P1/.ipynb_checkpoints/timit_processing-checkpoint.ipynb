{
 "cells": [
  {
   "cell_type": "code",
   "execution_count": 1,
   "metadata": {},
   "outputs": [],
   "source": [
    "import errno\n",
    "import os\n",
    "from os import path\n",
    "import sys\n",
    "import tarfile\n",
    "import fnmatch\n",
    "import pandas as pd\n",
    "import subprocess\n",
    "import argparse\n",
    "from mapping import phone_maps\n",
    "import python_speech_features as psf\n",
    "import scipy.io.wavfile as wav\n",
    "import numpy as np\n",
    "\n"
   ]
  },
  {
   "cell_type": "code",
   "execution_count": 2,
   "metadata": {},
   "outputs": [],
   "source": [
    "timit_phone_map = phone_maps(mapping_file=\"kaldi_60_48_39.map\")\n"
   ]
  },
  {
   "cell_type": "code",
   "execution_count": 3,
   "metadata": {},
   "outputs": [],
   "source": [
    "def clean(word):\n",
    "    # LC ALL & strip punctuation which are not required\n",
    "    new = word.lower().replace('.', '')\n",
    "    new = new.replace(',', '')\n",
    "    new = new.replace(';', '')\n",
    "    new = new.replace('\"', '')\n",
    "    new = new.replace('!', '')\n",
    "    new = new.replace('?', '')\n",
    "    new = new.replace(':', '')\n",
    "    new = new.replace('-', '')\n",
    "    return new\n"
   ]
  },
  {
   "cell_type": "code",
   "execution_count": 4,
   "metadata": {},
   "outputs": [],
   "source": [
    "def compute_mfcc(wav_file, n_delta=0):\n",
    "    mfcc_feat = psf.mfcc(wav_file)\n",
    "    if(n_delta == 0):\n",
    "        return(mfcc_feat)\n",
    "    elif(n_delta == 1):\n",
    "        return(np.hstack((mfcc_feat, psf.delta(mfcc_feat,1))))\n",
    "    elif(n_delta == 2):\n",
    "        return(np.hstack((mfcc_feat, psf.delta(mfcc_feat,1), psf.delta(mfcc_feat, 2))))\n",
    "    else:\n",
    "        return 0"
   ]
  },
  {
   "cell_type": "code",
   "execution_count": 17,
   "metadata": {},
   "outputs": [],
   "source": [
    "def read_transcript(full_wav):\n",
    "    trans_file = full_wav[:-4] + \".PHN\"\n",
    "    print(\"value of trans_file: \",trans_file)\n",
    "    with open(trans_file, \"r\") as file:\n",
    "        trans = file.readlines()\n",
    "    durations = [ele.strip().split(\" \")[:-1] for ele in trans]\n",
    "    durations_int = []\n",
    "    for duration in durations:\n",
    "        durations_int.append([int(duration[0]), int(duration[1])])\n",
    "    trans = [ele.strip().split(\" \")[-1] for ele in trans]\n",
    "    trans = [timit_phone_map.map_symbol_reduced(symbol=phoneme) for phoneme in trans]\n",
    "    # trans = \" \".join(trans)\n",
    "    return trans, durations_int\n"
   ]
  },
  {
   "cell_type": "code",
   "execution_count": 18,
   "metadata": {},
   "outputs": [
    {
     "name": "stdout",
     "output_type": "stream",
     "text": [
      "{'datapath': 'C:\\\\Users\\\\Shivangi Singh\\\\ASRproject', 'n_delta': 0}\n",
      "TIMIT path is:  C:\\Users\\Shivangi Singh\\ASRproject\n",
      "Preprocessing data\n",
      "Preprocessing Complete\n",
      "Building CSVs\n",
      "Computing for file:  C:\\Users\\Shivangi Singh\\ASRproject\\TIMIT\\TRAIN\\DR1\\FCJF0\\SA1.WAV\n",
      "value of trans_file:  C:\\Users\\Shivangi Singh\\ASRproject\\TIMIT\\TRAIN\\DR1\\FCJF0\\SA1.PHN\n"
     ]
    },
    {
     "ename": "ValueError",
     "evalue": "File format b'NIST'... not understood.",
     "output_type": "error",
     "traceback": [
      "\u001b[1;31m---------------------------------------------------------------------------\u001b[0m",
      "\u001b[1;31mValueError\u001b[0m                                Traceback (most recent call last)",
      "\u001b[1;32m<ipython-input-18-594efc3bcc1a>\u001b[0m in \u001b[0;36m<module>\u001b[1;34m()\u001b[0m\n\u001b[0;32m     54\u001b[0m     \u001b[0mprint\u001b[0m\u001b[1;33m(\u001b[0m\u001b[0margs\u001b[0m\u001b[1;33m)\u001b[0m\u001b[1;33m\u001b[0m\u001b[0m\n\u001b[0;32m     55\u001b[0m     \u001b[0mprint\u001b[0m\u001b[1;33m(\u001b[0m\u001b[1;34m\"TIMIT path is: \"\u001b[0m\u001b[1;33m,\u001b[0m \u001b[0margs\u001b[0m\u001b[1;33m[\u001b[0m\u001b[1;34m\"datapath\"\u001b[0m\u001b[1;33m]\u001b[0m\u001b[1;33m)\u001b[0m\u001b[1;33m\u001b[0m\u001b[0m\n\u001b[1;32m---> 56\u001b[1;33m     \u001b[0m_preprocess_data\u001b[0m\u001b[1;33m(\u001b[0m\u001b[0margs\u001b[0m\u001b[1;33m)\u001b[0m\u001b[1;33m\u001b[0m\u001b[0m\n\u001b[0m\u001b[0;32m     57\u001b[0m     \u001b[0mprint\u001b[0m\u001b[1;33m(\u001b[0m\u001b[1;34m\"Completed\"\u001b[0m\u001b[1;33m)\u001b[0m\u001b[1;33m\u001b[0m\u001b[0m\n",
      "\u001b[1;32m<ipython-input-18-594efc3bcc1a>\u001b[0m in \u001b[0;36m_preprocess_data\u001b[1;34m(args)\u001b[0m\n\u001b[0;32m     24\u001b[0m         \u001b[0mlabels\u001b[0m \u001b[1;33m=\u001b[0m \u001b[1;33m[\u001b[0m\u001b[1;33m]\u001b[0m\u001b[1;33m\u001b[0m\u001b[0m\n\u001b[0;32m     25\u001b[0m \u001b[1;33m\u001b[0m\u001b[0m\n\u001b[1;32m---> 26\u001b[1;33m         \u001b[1;33m(\u001b[0m\u001b[0msample_rate\u001b[0m\u001b[1;33m,\u001b[0m\u001b[0mwav_file\u001b[0m\u001b[1;33m)\u001b[0m \u001b[1;33m=\u001b[0m \u001b[0mwav\u001b[0m\u001b[1;33m.\u001b[0m\u001b[0mread\u001b[0m\u001b[1;33m(\u001b[0m\u001b[0mfull_wav\u001b[0m\u001b[1;33m)\u001b[0m\u001b[1;33m\u001b[0m\u001b[0m\n\u001b[0m\u001b[0;32m     27\u001b[0m         \u001b[0mmfcc_feats\u001b[0m \u001b[1;33m=\u001b[0m \u001b[0mcompute_mfcc\u001b[0m\u001b[1;33m(\u001b[0m\u001b[0mwav_file\u001b[0m\u001b[1;33m[\u001b[0m\u001b[0mdurations\u001b[0m\u001b[1;33m[\u001b[0m\u001b[1;36m0\u001b[0m\u001b[1;33m]\u001b[0m\u001b[1;33m[\u001b[0m\u001b[1;36m0\u001b[0m\u001b[1;33m]\u001b[0m\u001b[1;33m:\u001b[0m\u001b[0mdurations\u001b[0m\u001b[1;33m[\u001b[0m\u001b[1;36m0\u001b[0m\u001b[1;33m]\u001b[0m\u001b[1;33m[\u001b[0m\u001b[1;36m1\u001b[0m\u001b[1;33m]\u001b[0m\u001b[1;33m]\u001b[0m\u001b[1;33m,\u001b[0m \u001b[0mn_delta\u001b[0m\u001b[1;33m=\u001b[0m\u001b[0mn_delta\u001b[0m\u001b[1;33m)\u001b[0m\u001b[1;33m\u001b[0m\u001b[0m\n\u001b[0;32m     28\u001b[0m \u001b[1;33m\u001b[0m\u001b[0m\n",
      "\u001b[1;32mc:\\users\\shivangi singh\\appdata\\local\\programs\\python\\python36\\lib\\site-packages\\scipy\\io\\wavfile.py\u001b[0m in \u001b[0;36mread\u001b[1;34m(filename, mmap)\u001b[0m\n\u001b[0;32m    234\u001b[0m \u001b[1;33m\u001b[0m\u001b[0m\n\u001b[0;32m    235\u001b[0m     \u001b[1;32mtry\u001b[0m\u001b[1;33m:\u001b[0m\u001b[1;33m\u001b[0m\u001b[0m\n\u001b[1;32m--> 236\u001b[1;33m         \u001b[0mfile_size\u001b[0m\u001b[1;33m,\u001b[0m \u001b[0mis_big_endian\u001b[0m \u001b[1;33m=\u001b[0m \u001b[0m_read_riff_chunk\u001b[0m\u001b[1;33m(\u001b[0m\u001b[0mfid\u001b[0m\u001b[1;33m)\u001b[0m\u001b[1;33m\u001b[0m\u001b[0m\n\u001b[0m\u001b[0;32m    237\u001b[0m         \u001b[0mfmt_chunk_received\u001b[0m \u001b[1;33m=\u001b[0m \u001b[1;32mFalse\u001b[0m\u001b[1;33m\u001b[0m\u001b[0m\n\u001b[0;32m    238\u001b[0m         \u001b[0mchannels\u001b[0m \u001b[1;33m=\u001b[0m \u001b[1;36m1\u001b[0m\u001b[1;33m\u001b[0m\u001b[0m\n",
      "\u001b[1;32mc:\\users\\shivangi singh\\appdata\\local\\programs\\python\\python36\\lib\\site-packages\\scipy\\io\\wavfile.py\u001b[0m in \u001b[0;36m_read_riff_chunk\u001b[1;34m(fid)\u001b[0m\n\u001b[0;32m    166\u001b[0m         \u001b[1;31m# There are also .wav files with \"FFIR\" or \"XFIR\" signatures?\u001b[0m\u001b[1;33m\u001b[0m\u001b[1;33m\u001b[0m\u001b[0m\n\u001b[0;32m    167\u001b[0m         raise ValueError(\"File format {}... not \"\n\u001b[1;32m--> 168\u001b[1;33m                          \"understood.\".format(repr(str1)))\n\u001b[0m\u001b[0;32m    169\u001b[0m \u001b[1;33m\u001b[0m\u001b[0m\n\u001b[0;32m    170\u001b[0m     \u001b[1;31m# Size of entire file\u001b[0m\u001b[1;33m\u001b[0m\u001b[1;33m\u001b[0m\u001b[0m\n",
      "\u001b[1;31mValueError\u001b[0m: File format b'NIST'... not understood."
     ]
    }
   ],
   "source": [
    "def _preprocess_data(args):\n",
    "    datapath = args[\"datapath\"]\n",
    "    target = path.join(datapath, \"TIMIT\")\n",
    "\n",
    "    print(\"Preprocessing data\")\n",
    "\n",
    "    print(\"Preprocessing Complete\")\n",
    "    print(\"Building CSVs\")\n",
    "\n",
    "    mfcc_features = []\n",
    "    mfcc_labels = []\n",
    "\n",
    "    with open(\"train_wavs\", \"r\") as file:\n",
    "        full_wavs = file.readlines()\n",
    "    #full_wavs = [ele.strip() for ele in full_wavs]\n",
    "    full_wavs = [ele.strip().split(\",\") for ele in full_wavs]\n",
    "    full_wavs = full_wavs[0][:-1]\n",
    "   \n",
    "    for full_wav in full_wavs:\n",
    "        print(\"Computing for file: \", full_wav)\n",
    "\n",
    "        trans, durations = read_transcript(full_wav = full_wav)\n",
    "        n_delta = int(args[\"n_delta\"])\n",
    "        labels = []\n",
    "\n",
    "        (sample_rate,wav_file) = wav.read(full_wav)\n",
    "        mfcc_feats = compute_mfcc(wav_file[durations[0][0]:durations[0][1]], n_delta=n_delta)\n",
    "\n",
    "        for i in range(len(mfcc_feats)):\n",
    "                labels.append(trans[0])\n",
    "        for index, chunk in enumerate(durations[1:]):\n",
    "            mfcc_feat = compute_mfcc(wav_file[chunk[0]:chunk[1]], n_delta=n_delta)\n",
    "            mfcc_feats = np.vstack((mfcc_feats, mfcc_feat))\n",
    "            for i in range(len(mfcc_feat)):\n",
    "                labels.append(trans[index])\n",
    "        mfcc_features.extend(mfcc_feats)\n",
    "        mfcc_labels.extend(labels)\n",
    "    timit_df = pd.DataFrame()\n",
    "    timit_df[\"features\"] = mfcc_features\n",
    "    timit_df[\"labels\"] = mfcc_labels\n",
    "    timit_df.to_hdf(\"timit.hdf\", \"timit\")\n",
    "    \n",
    "if __name__ == \"__main__\":\n",
    "\n",
    "    #parser = argparse.ArgumentParser()\n",
    "\n",
    "    #parser.add_argument('--timit', type=str, default=\"./\",\n",
    "                       #help='TIMIT root directory')\n",
    "    #parser.add_argument('--n_delta', type=str, default=\"0\",\n",
    "                       #help='Number of delta features to compute')\n",
    "    args = {\"datapath\": \"C:\\\\Users\\\\Shivangi Singh\\\\ASRproject\", \"n_delta\": 0}\n",
    "    \n",
    "    #args = parser.parse_args()\n",
    "    print(args)\n",
    "    print(\"TIMIT path is: \", args[\"datapath\"])\n",
    "    _preprocess_data(args)\n",
    "    print(\"Completed\")\n"
   ]
  },
  {
   "cell_type": "code",
   "execution_count": null,
   "metadata": {},
   "outputs": [],
   "source": []
  }
 ],
 "metadata": {
  "kernelspec": {
   "display_name": "Python 3",
   "language": "python",
   "name": "python3"
  },
  "language_info": {
   "codemirror_mode": {
    "name": "ipython",
    "version": 3
   },
   "file_extension": ".py",
   "mimetype": "text/x-python",
   "name": "python",
   "nbconvert_exporter": "python",
   "pygments_lexer": "ipython3",
   "version": "3.6.3"
  }
 },
 "nbformat": 4,
 "nbformat_minor": 2
}
