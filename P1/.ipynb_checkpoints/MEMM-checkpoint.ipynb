{
 "cells": [
  {
   "cell_type": "code",
   "execution_count": null,
   "metadata": {
    "collapsed": true
   },
   "outputs": [],
   "source": [
    "import re\n",
    "import numpy as np\n",
    "\n",
    "#get data from the fileName passed as argument (in the same folder)\n",
    "def getData(filename):\n",
    "    x = list()\n",
    "    y = list()\n",
    "    z = list()\n",
    "    \n",
    "    with open(filename) as file:\n",
    "        line = file.readline()\n",
    "        while line:\n",
    "            line = line.strip()\n",
    "            st = line.split(\" \")\n",
    "            if len(st) == 3:\n",
    "                x.append(st[0])\n",
    "                y.append(st[1])\n",
    "                z.append(st[2])\n",
    "            elif len(st) == 1:\n",
    "                x.append(\"-1\")\n",
    "                y.append(\"-1\")\n",
    "                z.append(\"-1\")\n",
    "            line = file.readline()\n",
    "    return x,y,z\n",
    "\n",
    "train_words,train_POS_tags,train_chunking_tags = getData('train.txt')\n",
    "test_words,test_POS_tags,test_chunking_tags = getData('test.txt')\n",
    "\n",
    "print('Train-Set size: ' + str(len(train_words)))\n",
    "print('Test-Set size: ' + str(len(test_words)))"
   ]
  },
  {
   "cell_type": "code",
   "execution_count": null,
   "metadata": {
    "collapsed": true
   },
   "outputs": [],
   "source": [
    "#dictionary of tags\n",
    "dic = {}\n",
    "dic[0] = \"#\"\n",
    "dic[1] = \"$\"\n",
    "dic[2] = \"''\"\n",
    "dic[3] = \"(\"\n",
    "dic[4] = \")\"\n",
    "dic[5] = \",\"\n",
    "dic[6] = \".\"\n",
    "dic[7] = \":\"\n",
    "dic[8] = \"CC\"\n",
    "dic[9] = \"CD\"\n",
    "dic[10] = \"DT\"\n",
    "dic[11] = \"EX\"\n",
    "dic[12] = \"FW\"\n",
    "dic[13] = \"IN\"\n",
    "dic[14] = \"JJ\"\n",
    "dic[15] = \"JJR\"\n",
    "dic[16] = \"JJS\"\n",
    "dic[17] = \"MD\"\n",
    "dic[18] = \"NN\"\n",
    "dic[19] = \"NNP\"\n",
    "dic[20] = \"NNPS\"\n",
    "dic[21] = \"NNS\"\n",
    "dic[22] = \"PDT\"\n",
    "dic[23] = \"POS\"\n",
    "dic[24] = \"PRP\"\n",
    "dic[25] = \"PRP$\"\n",
    "dic[26] = \"RB\"\n",
    "dic[27] = \"RBR\"\n",
    "dic[28] = \"RBS\"\n",
    "dic[29] = \"RP\"\n",
    "dic[30] = \"SYM\"\n",
    "dic[31] = \"TO\"\n",
    "dic[32] = \"UH\"\n",
    "dic[33] = \"VB\"\n",
    "dic[34] = \"VBD\"\n",
    "dic[35] = \"VBG\"\n",
    "dic[36] = \"VBN\"\n",
    "dic[37] = \"VBP\"\n",
    "dic[38] = \"VBZ\"\n",
    "dic[39] = \"WDT\"\n",
    "dic[40] = \"WP\"\n",
    "dic[41] = \"WP$\"\n",
    "dic[42] = \"WRB\"\n",
    "dic[43] = \"``\""
   ]
  },
  {
   "cell_type": "code",
   "execution_count": null,
   "metadata": {
    "collapsed": true
   },
   "outputs": [],
   "source": [
    "#getting the accuracy of the model\n",
    "def getAccuracy(prediction):\n",
    "    cnt = 0\n",
    "    j = 0\n",
    "    for i in len(prediction):\n",
    "        if(test_POS_tag[j] == \"-1\"):\n",
    "            j = j+1\n",
    "            continue\n",
    "        elif prediction[i] == test_POS_tag[j]:\n",
    "            j = j+1\n",
    "            cnt = cnt+1\n",
    "    return cnt/len(prediction)"
   ]
  },
  {
   "cell_type": "code",
   "execution_count": null,
   "metadata": {
    "collapsed": true
   },
   "outputs": [],
   "source": [
    "#for getting a feature vector\n",
    "def getFeatures(words,index):\n",
    "    feature = list()\n",
    "    \n",
    "    feature.append(True)\n",
    "    #feature 1: is the first letter Capitalized?\n",
    "    feature.append(words[index][0].isupper())\n",
    "    \n",
    "    #feature 2: is it ending in \"ing\"?\n",
    "    feature.append(words[index][-3:] == \"ing\")\n",
    "    \n",
    "    #feature 3: is it ending in \"ly\"?\n",
    "    feature.append(words[index][-2:] == \"ly\")\n",
    "    \n",
    "    #feature 4: is the previous word \"the\"?\n",
    "    if index > 0:\n",
    "        feature.append(words[index-1] == \"the\")\n",
    "    else:\n",
    "        feature.append(False)\n",
    "    \n",
    "    #feature 5: does it contain a number?\n",
    "    pattern = re.compile(r'\\d')\n",
    "    feature.append(len(pattern.findall(words[index])) > 0)\n",
    "    \n",
    "    #featre 6: does it have a hyphen?\n",
    "    pattern = re.compile(r'-')\n",
    "    feature.append(len(pattern.findall(words[index])) > 0)\n",
    "    \n",
    "    return feature"
   ]
  },
  {
   "cell_type": "code",
   "execution_count": null,
   "metadata": {
    "collapsed": true
   },
   "outputs": [],
   "source": [
    "def getFeatureMatrix(words):\n",
    "    matrix = list()\n",
    "    size = len(words)\n",
    "    \n",
    "    i=0\n",
    "    while i<size:\n",
    "        sentence = list()\n",
    "        while i<size and words[i] != \"-1\":\n",
    "            sentence.append(words[i])\n",
    "            i = i+1\n",
    "        j=0\n",
    "        while j < len(sentence):\n",
    "            matrix.append(getFeatures(sentence,j))\n",
    "            j=j+1\n",
    "        i = i+1\n",
    "        \n",
    "    return matrix"
   ]
  },
  {
   "cell_type": "code",
   "execution_count": null,
   "metadata": {
    "collapsed": true
   },
   "outputs": [],
   "source": [
    "feature_matrix = np.asarray(getFeatureMatrix(train_words))\n",
    "feature_matrix"
   ]
  },
  {
   "cell_type": "code",
   "execution_count": null,
   "metadata": {
    "collapsed": true
   },
   "outputs": [],
   "source": [
    "weight_matrix = np.ones((7,len(dic)),dtype=int)\n",
    "weight_matrix"
   ]
  },
  {
   "cell_type": "code",
   "execution_count": null,
   "metadata": {},
   "outputs": [],
   "source": [
    "Z = np.matmul(feature_matrix,weight_matrix)\n",
    "\n",
    "#softmax layer\n",
    "Z = np.exp(Z)\n",
    "Z = Z/np.sum(Z)\n",
    "Z"
   ]
  },
  {
   "cell_type": "code",
   "execution_count": null,
   "metadata": {
    "collapsed": true
   },
   "outputs": [],
   "source": []
  }
 ],
 "metadata": {
  "kernelspec": {
   "display_name": "Python 3",
   "language": "python",
   "name": "python3"
  },
  "language_info": {
   "codemirror_mode": {
    "name": "ipython",
    "version": 3
   },
   "file_extension": ".py",
   "mimetype": "text/x-python",
   "name": "python",
   "nbconvert_exporter": "python",
   "pygments_lexer": "ipython3",
   "version": "3.6.5"
  }
 },
 "nbformat": 4,
 "nbformat_minor": 2
}
