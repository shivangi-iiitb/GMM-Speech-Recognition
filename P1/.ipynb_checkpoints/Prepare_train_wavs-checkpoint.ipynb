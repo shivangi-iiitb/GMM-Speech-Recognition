{
 "cells": [
  {
   "cell_type": "code",
   "execution_count": null,
   "metadata": {},
   "outputs": [],
   "source": [
    "import glob\n",
    "file = open('train_wavs', 'a+')\n",
    "for f in glob.iglob(\"C:\\\\Users\\\\Shivangi Singh\\\\ASRproject\\\\TIMIT\\\\TRAIN\\\\*\\\\*\\\\*.wav\"):\n",
    "    file.write(f+\" \")\n",
    "print(file)"
   ]
  }
 ],
 "metadata": {
  "kernelspec": {
   "display_name": "Python 3",
   "language": "python",
   "name": "python3"
  },
  "language_info": {
   "codemirror_mode": {
    "name": "ipython",
    "version": 3
   },
   "file_extension": ".py",
   "mimetype": "text/x-python",
   "name": "python",
   "nbconvert_exporter": "python",
   "pygments_lexer": "ipython3",
   "version": "3.6.3"
  }
 },
 "nbformat": 4,
 "nbformat_minor": 2
}
